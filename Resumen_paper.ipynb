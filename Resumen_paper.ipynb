{
  "nbformat": 4,
  "nbformat_minor": 0,
  "metadata": {
    "colab": {
      "provenance": [],
      "authorship_tag": "ABX9TyO7JSi5NWoATBrxKrGjWpxg",
      "include_colab_link": true
    },
    "kernelspec": {
      "name": "python3",
      "display_name": "Python 3"
    },
    "language_info": {
      "name": "python"
    }
  },
  "cells": [
    {
      "cell_type": "markdown",
      "metadata": {
        "id": "view-in-github",
        "colab_type": "text"
      },
      "source": [
        "<a href=\"https://colab.research.google.com/github/dnarvaez01/ACUS220/blob/main/Resumen_paper.ipynb\" target=\"_parent\"><img src=\"https://colab.research.google.com/assets/colab-badge.svg\" alt=\"Open In Colab\"/></a>"
      ]
    },
    {
      "cell_type": "markdown",
      "source": [
        "#Mejores prácticas para la computación científica"
      ],
      "metadata": {
        "id": "gqtarDzQIlGw"
      }
    },
    {
      "cell_type": "markdown",
      "source": [
        "##Introducción\n",
        "El paper describe un conjunto de recomendaciones a la hora de programar con fines cientificos, para ser mas eficacez para el desarrollo de una investigación. Las recomendaciones que se brindan en el articulo con basadas en la experencia colectiva en la construccion de software cientifico y en la enseñanza de la informatica a cientificos. Estas recomendaciones busca la reduccion del numero de errores, para el ahorro de tiempo y esfuerzo de los cientificos.\\\n",
        "Luego se definen las siguientes recomendaciones a la hora de realizar un codigo:\n",
        "\n"
      ],
      "metadata": {
        "id": "MOoO1jZsA9rT"
      }
    },
    {
      "cell_type": "markdown",
      "source": [
        "###Escribir programas para personas, no para computadoras\n",
        "\n",
        "**Un programa no debe requerir que sus lectores tengan más de un puñado de hechos en la memoria a la vez** \\\n",
        "Los programas deben limitarse en numero de elemetos que deben recoordarse para realizar una tarea. Una manera de poder lograrlo es dividir los programas en funciones faciles de entender, la cual realiza una sola tarea facil de entender. \n",
        "\n",
        "**Hacer que los nombres sean consistentes, distintivos y significativos**\\\n",
        "Nombrar variables distintivas y no repititivas o dificiles de recordar por ejemplo: a1 y a2 para no causar confusión.\n",
        "\n",
        "**Hacer que el estilo y el formato del codigo sean consistentes**\\\n",
        "No contener distintos formatos de realizar el identado o el formato al guardar un codigo o función, como por ejemplo Transformada_de_furier o TransformadaDeFurier, esto puede provocar confuciones y errores."
      ],
      "metadata": {
        "id": "VOLk1f5SHeZ-"
      }
    },
    {
      "cell_type": "markdown",
      "source": [
        "###Dejar que el computador haga el trabajo\n"
      ],
      "metadata": {
        "id": "ktlkGCBtHrX3"
      }
    },
    {
      "cell_type": "markdown",
      "source": [
        "###Realizar cambios incrementales"
      ],
      "metadata": {
        "id": "RymzuFr8H0e2"
      }
    },
    {
      "cell_type": "markdown",
      "source": [
        "###No repetirse a si mismo ni a los demás\n"
      ],
      "metadata": {
        "id": "l9yN2DG6H4-t"
      }
    },
    {
      "cell_type": "markdown",
      "source": [
        "###Planificar los errrores\n",
        "**Programación defensiva**\\\n",
        "Los programadores agregan afirmaciones a los programas para verificar su funcionamiento, porque la experiencia les ha enseñado que todos cometen errores.\\\n",
        "Una afirmacion es una declaración de que algo es cierto en un punto particular del programa. Se utiliza para garantizar que las entradas sean validas, que las salidas sean coherentes, etc.\\\n",
        "Las afirmaciones pueden constituir una fracción considerable del código en aplicaciones bien escritas. Estas afirmaciones tienen dos propósitos. \\\n",
        "Primero se aseguran de que si algo sale mal, el programa se detendrá inmediatamente, lo que simplifica la depuración. \\\n",
        "En segundo lugar, las afirmaciones son documentación ejecutable. es decir, explican el programa y verifican su comportamiento. Esto los hace más útiles en muchos casos que los comentarios, ya que el lector puede estar seguro de que son precisos y están actualizados.\n",
        "\n",
        "**Pruebas autimatizadas**\n",
        "Las pruebas automatizadas pueden comprobar que una sola unidad de código devuelve resultados correctos (pruebas unitarias), que los fragmentos de código funcionan correctamente cuando se combinan (prueba de integración) y que el comportamiento de un programa no cambia cuando se modifican los detalles(pruebas de regresión). Estas pruebas son realizadas por la computadora, por lo que son fáciles de volver a ejecutar cada vez que se modifica el programa. Crear y administrar pruebas es más fácil si los programadores usan una biblioteca de pruebas unitarias estándar para inicializar entradas, ejecutar pruebas e informar sus resultados de manera uniforme. Estas bibliotecas están disponibles para todos los principales lenguajes de programación, incluidos los que se usan comúnmente en computación científica.\\\n",
        "Las pruebas verifican si el código coincide con las expectativas del investigador sobre su comportamiento, lo que depende de la compresión del investigador del problema en cuestión.\n",
        "\n",
        "**Convertir los errores en casos de prueba**\\\n",
        "Escribir pruebas que activen un error que se ha encontrado en el código y (una vez corregido) evitarán que el error vuelva a aparecer desapercibido.En combinación, este tipo de pruebas pueden mejorar nuestra confianza en que el código científico  está funcionando correctamente y que los resultados que produce son validos. También se logra un código con un diseño fácil de entender y más reutilizable.\n",
        "\n",
        "**Utilizar un depurador simbólico**\\\n",
        "Para rastrear errores, se utiliza un inspector de programas interactivo, ya que un depurador permite a los usuarios pausar un programa en cualquier programa en cualquier línea (o cuando alguna condición es verdadera), inspeccionar los valores de las variables y subir y bajar las llamadas de funciones activas para descubrir por qué las cosas se comportan de la manera en que están. El depurador permite al científico presenciar lo que va mal directamente, en lugar de tener que anticipar el error o inferir el problema utilizando evidencia indirecta."
      ],
      "metadata": {
        "id": "DgiuSfXUIA2x"
      }
    },
    {
      "cell_type": "markdown",
      "source": [
        "###Optimice el software solo después de que funcione correctamente"
      ],
      "metadata": {
        "id": "vRL_d5t-IGZ2"
      }
    },
    {
      "cell_type": "markdown",
      "source": [
        "###Diseño y propósito del documento. no mecánica"
      ],
      "metadata": {
        "id": "x9ePvu9UIRLm"
      }
    },
    {
      "cell_type": "markdown",
      "source": [
        "###Colaborar"
      ],
      "metadata": {
        "id": "oN5OX2jnIbs1"
      }
    },
    {
      "cell_type": "markdown",
      "source": [
        "##Conclusión"
      ],
      "metadata": {
        "id": "OLXvORRaIfNH"
      }
    }
  ]
}