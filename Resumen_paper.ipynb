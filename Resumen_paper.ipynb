{
  "nbformat": 4,
  "nbformat_minor": 0,
  "metadata": {
    "colab": {
      "provenance": [],
      "authorship_tag": "ABX9TyO1YhznDZ47dT+WNrUB1EEa",
      "include_colab_link": true
    },
    "kernelspec": {
      "name": "python3",
      "display_name": "Python 3"
    },
    "language_info": {
      "name": "python"
    }
  },
  "cells": [
    {
      "cell_type": "markdown",
      "metadata": {
        "id": "view-in-github",
        "colab_type": "text"
      },
      "source": [
        "<a href=\"https://colab.research.google.com/github/dnarvaez01/ACUS220/blob/main/Resumen_paper.ipynb\" target=\"_parent\"><img src=\"https://colab.research.google.com/assets/colab-badge.svg\" alt=\"Open In Colab\"/></a>"
      ]
    },
    {
      "cell_type": "markdown",
      "source": [
        "#Mejores prácticas para la computación científica"
      ],
      "metadata": {
        "id": "gqtarDzQIlGw"
      }
    },
    {
      "cell_type": "markdown",
      "source": [
        "##Introducción\n",
        "El paper describe un conjunto de recomendaciones a la hora de programar con fines cientificos, para ser mas eficacez para el desarrollo de una investigación. Las recomendaciones que se brindan en el articulo con basadas en la experencia colectiva en la construccion de software cientifico y en la enseñanza de la informatica a cientificos. Estas recomendaciones busca la reduccion del numero de errores, para el ahorro de tiempo y esfuerzo de los cientificos.\\\n",
        "Luego se definen las siguientes recomendaciones a la hora de realizar un codigo:\n",
        "\n"
      ],
      "metadata": {
        "id": "MOoO1jZsA9rT"
      }
    },
    {
      "cell_type": "markdown",
      "source": [
        "##Escribir programas para personas, no para computadoras\n",
        "\n",
        "**Un programa no debe requerir que sus lectores tengan más de un puñado de hechos en la memoria a la vez** \\\n",
        "Los programas deben limitarse en numero de elemetos que deben recoordarse para realizar una tarea. Una manera de poder lograrlo es dividir los programas en funciones faciles de entender, la cual realiza una sola tarea facil de entender. \n",
        "\n",
        "**Hacer que los nombres sean consistentes, distintivos y significativos**\\\n",
        "Nombrar variables distintivas y no repititivas o dificiles de recordar por ejemplo: a1 y a2 para no causar confusión.\n",
        "\n",
        "**Hacer que el estilo y el formato del codigo sean consistentes**\\\n",
        "No contener distintos formatos de realizar el identado o el formato al guardar un codigo o función, como por ejemplo Transformada_de_furier o TransformadaDeFurier, esto puede provocar confuciones y errores."
      ],
      "metadata": {
        "id": "VOLk1f5SHeZ-"
      }
    },
    {
      "cell_type": "markdown",
      "source": [
        "##Dejar que el computador haga el trabajo\n"
      ],
      "metadata": {
        "id": "ktlkGCBtHrX3"
      }
    },
    {
      "cell_type": "markdown",
      "source": [
        "##Realizar cambios incrementales"
      ],
      "metadata": {
        "id": "RymzuFr8H0e2"
      }
    },
    {
      "cell_type": "markdown",
      "source": [
        "##No repetirse a si mismo ni a los demás"
      ],
      "metadata": {
        "id": "l9yN2DG6H4-t"
      }
    },
    {
      "cell_type": "markdown",
      "source": [
        "##Planificar los errrores"
      ],
      "metadata": {
        "id": "DgiuSfXUIA2x"
      }
    },
    {
      "cell_type": "markdown",
      "source": [
        "##Optimize el software solo después de que funcione correctamente"
      ],
      "metadata": {
        "id": "vRL_d5t-IGZ2"
      }
    },
    {
      "cell_type": "markdown",
      "source": [
        "##Diseño y propósito del documento. no mecánica"
      ],
      "metadata": {
        "id": "x9ePvu9UIRLm"
      }
    },
    {
      "cell_type": "markdown",
      "source": [
        "##Colaborar"
      ],
      "metadata": {
        "id": "oN5OX2jnIbs1"
      }
    },
    {
      "cell_type": "markdown",
      "source": [
        "##Conclusión"
      ],
      "metadata": {
        "id": "OLXvORRaIfNH"
      }
    }
  ]
}