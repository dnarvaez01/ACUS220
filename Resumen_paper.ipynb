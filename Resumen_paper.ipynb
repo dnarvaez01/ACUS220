{
  "nbformat": 4,
  "nbformat_minor": 0,
  "metadata": {
    "colab": {
      "provenance": [],
      "authorship_tag": "ABX9TyOyUmu8eU4V3Sa02jY+4fc7",
      "include_colab_link": true
    },
    "kernelspec": {
      "name": "python3",
      "display_name": "Python 3"
    },
    "language_info": {
      "name": "python"
    }
  },
  "cells": [
    {
      "cell_type": "markdown",
      "metadata": {
        "id": "view-in-github",
        "colab_type": "text"
      },
      "source": [
        "<a href=\"https://colab.research.google.com/github/dnarvaez01/ACUS220/blob/main/Resumen_paper.ipynb\" target=\"_parent\"><img src=\"https://colab.research.google.com/assets/colab-badge.svg\" alt=\"Open In Colab\"/></a>"
      ]
    },
    {
      "cell_type": "markdown",
      "source": [
        "#Mejores prácticas para la computación científica"
      ],
      "metadata": {
        "id": "gqtarDzQIlGw"
      }
    },
    {
      "cell_type": "markdown",
      "source": [
        "##Introducción\n",
        "El paper describe un conjunto de recomendaciones a la hora de programar con fines cientificos, para ser mas eficacez para el desarrollo de una investigación. Las recomendaciones que se brindan en el articulo con basadas en la experencia colectiva en la construccion de software cientifico y en la enseñanza de la informatica a cientificos. Estas recomendaciones busca la reduccion del numero de errores, para el ahorro de tiempo y esfuerzo de los cientificos.\\\n",
        "Luego se definen las siguientes recomendaciones a la hora de realizar un codigo:\n",
        "\n"
      ],
      "metadata": {
        "id": "MOoO1jZsA9rT"
      }
    },
    {
      "cell_type": "markdown",
      "source": [
        "###Escribir programas para personas, no para computadoras\n",
        "\n",
        "**Un programa no debe requerir que sus lectores tengan más de un puñado de hechos en la memoria a la vez** \\\n",
        "Los programas deben limitarse en numero de elemetos que deben recoordarse para realizar una tarea. Una manera de poder lograrlo es dividir los programas en funciones faciles de entender, la cual realiza una sola tarea facil de entender. \n",
        "\n",
        "**Hacer que los nombres sean consistentes, distintivos y significativos**\\\n",
        "Nombrar variables distintivas y no repititivas o dificiles de recordar por ejemplo: a1 y a2 para no causar confusión.\n",
        "\n",
        "**Hacer que el estilo y el formato del codigo sean consistentes**\\\n",
        "No contener distintos formatos de realizar el identado o el formato al guardar un codigo o función, como por ejemplo Transformada_de_furier o TransformadaDeFurier, esto puede provocar confuciones y errores."
      ],
      "metadata": {
        "id": "VOLk1f5SHeZ-"
      }
    },
    {
      "cell_type": "markdown",
      "source": [
        "###Dejar que el computador haga el trabajo\\\n",
        "Para esto los científicos deberán hacer que la computadora repita las tareas y guardar los comandos recientes en un archivo para su reutilización.Como por ejemplo, la mayoría de las herrmientas de línea de comandos tienen una opción de \"historial\" que permite a los usuarios mostrar y volver a ejecutar comandos recientes, con ediciones menores en los nombres de archivo o parámetros.\\\n",
        "Cuando los scripts se utilizan repetidamente de la misma manera, o en combinación, se puede usar una herramienta de administración de flujo de trabajo. Por ejemplo compilar y vincular programas en lenguajes como Fortran, C++, Javay C#.La herramienta más utilizada para esta tarea es Make, entre otras herramientas. Esta permite a las personas expresar dependencias entre archivos, es decir que si A o B han cambiado, entonces C debe actualizarse utilizando un conjunto específico de comandos.\\\n",
        "Para evitar errores e ineficiencias al repetir comandos manualmente, se recomienda que los cientificos utilicen una herramienta de compilación para automatizar los flujos de trabajo, por ejemplo, especificar las formas en que los archivos de datos intermedios y los resultados finales dependen entre sí y de los programas que los crean, de modo que un solo comando regenere todo lo que necesita ser regenerado.\\\n",
        "Para maximizar la reproducibilidad, todo lo necesario para recrear la salida debe grabarse automáticamente en un formato que otros programas pueden leer.Ha habido algunas iniciativas para automatizar la recopilación de esta información y estandarizar su formato, pero ya es posible registrar lo siguiente sin herramientas adicionales:\n",
        "\n",
        "\n",
        "*   Identificadores únicos y números de versión para registros de datos sin procesar (que los científicos pueden necesitar crear ellos mismos);\n",
        "*   Identificadores únicos y números de versión para programas y bibliotecas;\n",
        "*   los valores de los parámetros utilizados para generar cualquier salida dada.\n",
        "*   Los nombres y números de versión de los programas utilizados para generar esos resultados.\n",
        "\n",
        "\n"
      ],
      "metadata": {
        "id": "ktlkGCBtHrX3"
      }
    },
    {
      "cell_type": "markdown",
      "source": [
        "###Realizar cambios incrementales"
      ],
      "metadata": {
        "id": "RymzuFr8H0e2"
      }
    },
    {
      "cell_type": "markdown",
      "source": [
        "###No repetirse a si mismo ni a los demás\n",
        "Cualquier cosa que se repita en dos o más lugares es más difícil de mantener. Cada vez que se realiza un cambio o correción, se deben actualizar varias ubicaciones, lo que aumenta la posibilidad de errores e inconsistencias. Para evitar esto, los programadores siguen el principio DRY para no no repetirse que se aplica tanto a los datos como al código.\\\n",
        "Para los datos, esta máxima sostiene que cada dato debe tener una única representación autorizada en el sistema. Las constantes físicas deben definirse exactamente una vez para garantizar que todo el programa utilice el mismo valor; Los archivos de datos sin procesar deben tener una sola versión canónica, cada ubicación geográfica de la que se han recopilado datos debe recibir una identificación que se pueda usar para buscar su latitud y longitud, y así sucesivamente.\\\n",
        "El principio DRY se aplica al código en dos escalas. A escala pequeña, modulando el código en lugar de copiar y pegar. Se ha demostrado que  evitar los clones de código reduce las tasas de error cuando se realiza un cambio o se corrige un error, ese cambio o corrección tiene efecto en todas partes, y el modelo  mental del programa de las personas sigue siendo preciso. Como efecto secundario, modularizar el codigo permite a las personas recordar su funcionalidad como un solo fragmento mental, lo que a su vez hace que el código sea más fácil de entender.\\\n",
        "A escalas más grandes, es vital que los programadores científicos reutilicen el código en lugar de reescribirlo. Por lo general, es mejor encontrar una biblioteca o paquete establecido que resuelva un problema que intentar escribir sus propias rutinas para problemas bien establecidos."
      ],
      "metadata": {
        "id": "l9yN2DG6H4-t"
      }
    },
    {
      "cell_type": "markdown",
      "source": [
        "###Planificar los errrores\n",
        "**Programación defensiva**\\\n",
        "Los programadores agregan afirmaciones a los programas para verificar su funcionamiento, porque la experiencia les ha enseñado que todos cometen errores.\\\n",
        "Una afirmacion es una declaración de que algo es cierto en un punto particular del programa. Se utiliza para garantizar que las entradas sean validas, que las salidas sean coherentes, etc.\\\n",
        "Las afirmaciones pueden constituir una fracción considerable del código en aplicaciones bien escritas. Estas afirmaciones tienen dos propósitos. \\\n",
        "Primero se aseguran de que si algo sale mal, el programa se detendrá inmediatamente, lo que simplifica la depuración. \\\n",
        "En segundo lugar, las afirmaciones son documentación ejecutable. es decir, explican el programa y verifican su comportamiento. Esto los hace más útiles en muchos casos que los comentarios, ya que el lector puede estar seguro de que son precisos y están actualizados.\n",
        "\n",
        "**Pruebas autimatizadas**\n",
        "Las pruebas automatizadas pueden comprobar que una sola unidad de código devuelve resultados correctos (pruebas unitarias), que los fragmentos de código funcionan correctamente cuando se combinan (prueba de integración) y que el comportamiento de un programa no cambia cuando se modifican los detalles(pruebas de regresión). Estas pruebas son realizadas por la computadora, por lo que son fáciles de volver a ejecutar cada vez que se modifica el programa. Crear y administrar pruebas es más fácil si los programadores usan una biblioteca de pruebas unitarias estándar para inicializar entradas, ejecutar pruebas e informar sus resultados de manera uniforme. Estas bibliotecas están disponibles para todos los principales lenguajes de programación, incluidos los que se usan comúnmente en computación científica.\\\n",
        "Las pruebas verifican si el código coincide con las expectativas del investigador sobre su comportamiento, lo que depende de la compresión del investigador del problema en cuestión.\n",
        "\n",
        "**Convertir los errores en casos de prueba**\\\n",
        "Escribir pruebas que activen un error que se ha encontrado en el código y (una vez corregido) evitarán que el error vuelva a aparecer desapercibido.En combinación, este tipo de pruebas pueden mejorar nuestra confianza en que el código científico  está funcionando correctamente y que los resultados que produce son validos. También se logra un código con un diseño fácil de entender y más reutilizable.\n",
        "\n",
        "**Utilizar un depurador simbólico**\\\n",
        "Para rastrear errores, se utiliza un inspector de programas interactivo, ya que un depurador permite a los usuarios pausar un programa en cualquier programa en cualquier línea (o cuando alguna condición es verdadera), inspeccionar los valores de las variables y subir y bajar las llamadas de funciones activas para descubrir por qué las cosas se comportan de la manera en que están. El depurador permite al científico presenciar lo que va mal directamente, en lugar de tener que anticipar el error o inferir el problema utilizando evidencia indirecta."
      ],
      "metadata": {
        "id": "DgiuSfXUIA2x"
      }
    },
    {
      "cell_type": "markdown",
      "source": [
        "###Optimice el software solo después de que funcione correctamente\n",
        "Al momento de realizar un código el cientifico debe analizar si es necesario que el programa sea rápido o no. Una vez analizado esto, está la opción de reducir el código con una menor cantidad de lineas o buscar un lenguaje de programación más rápido pero que puede requerir más cantidad de líneas."
      ],
      "metadata": {
        "id": "vRL_d5t-IGZ2"
      }
    },
    {
      "cell_type": "markdown",
      "source": [
        "###Diseño y propósito del documento. no mecánica\n",
        "La documentación de referencia y las descripciones de las decisiones de diseño son clave para mejorar la compresibilidad del código. Sin embargo, la documentación en linea que recapitula el código no es útil. Por lo tanto, se recomienda que los programadores documenten interfaces y razones, no implementaciones.\\\n",
        "En lugar de escribir un párrafo para explicar una sección compleja de código , reorganizar el código en sí para que no necesite tal explicación. Esto no siempre es posible, pero siempre se deberá priorizar esto de ser posible.\\\n",
        "La mejor manera de crear y mantener documentación de referencia es incrustar la documentación de una pieza de software en ese software. Hacer esto aumenta la probabilidad de que cuando los programadores cambien el código, actualicen la documentación al mismo tiempo.\\\n",
        "Una forma más directa es crear un documento que incluya código y documentación (programación alfabetizada), esto se puede hacer por ejemplo con Jupyter notebook.\n",
        "\n"
      ],
      "metadata": {
        "id": "x9ePvu9UIRLm"
      }
    },
    {
      "cell_type": "markdown",
      "source": [
        "###Colaborar\n",
        "compartir lo que vas haciendo en tu código ayuda a no cometer errores y que las demás personas puedan ver lo que vas avanzando y ayudarte a que este se logré entender de mejor manera.\\\n",
        "Una forma extrema de revisión de código es la programación en pares, donde uno de ellos escribe el código y el otro proporciona una retroalimentación en tiempo real, esta manera ayuda a mejorar la productividad, pero para muchos programadores puede se una manera instrusiva. Por lo que se recomienda que los equipos utilicen la programación en pareja cuando se le enseñe a alguien nuevo o cuando el problema que se aborda es particularmente difícil.\\\n",
        "Cuando el equipo de trabajo es grande, se vuelve difícil hacer un seguimiento de lo que se necesita revisar. Para poder evitar que los equipos tengan un esfuerzo duplicado se utiliza una herramienta de seguimiento para mantener una lista de tareas a realizar y errores a conseguir. GitHub es un servicio que incluye herramientas de seguimiento de problemas, entre otras."
      ],
      "metadata": {
        "id": "oN5OX2jnIbs1"
      }
    },
    {
      "cell_type": "markdown",
      "source": [
        "##Conclusión\n",
        "Se hizo una serie de recomendaciones de mejores practicas a la hora de realizar la programación con fines cientificos, las cuales se basan en la experiencia colectiva y a una extensa investigación.\n",
        "Estas prácticas pueden aplicarse al trabajo individual y/o grupal, logrando una mejora en la productividad de la programación científica y la fiabilidad del código resultante.\\\n",
        "La inversión en estos enfoques tanto por parte de individuos como de instituciones mejorará nuestra confianza en los resultados de la ciencia computacional y nos permitirá avanzar más rápidamente en cuestiones científicas importantes de lo que sería posible de otra manera."
      ],
      "metadata": {
        "id": "OLXvORRaIfNH"
      }
    }
  ]
}